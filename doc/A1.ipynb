{
 "cells": [
  {
   "cell_type": "code",
   "execution_count": 1,
   "id": "e083dc15",
   "metadata": {},
   "outputs": [],
   "source": [
    "import matplotlib.pyplot as plt\n",
    "import numpy as np\n",
    "import torch\n",
    "import torch.nn as nn\n",
    "\n",
    "import pandas as pd\n",
    "from sklearn.model_selection import train_test_split\n",
    "import warnings\n",
    "warnings.filterwarnings(\"ignore\")"
   ]
  },
  {
   "cell_type": "code",
   "execution_count": 2,
   "id": "62241329",
   "metadata": {},
   "outputs": [
    {
     "data": {
      "text/html": [
       "<div>\n",
       "<style scoped>\n",
       "    .dataframe tbody tr th:only-of-type {\n",
       "        vertical-align: middle;\n",
       "    }\n",
       "\n",
       "    .dataframe tbody tr th {\n",
       "        vertical-align: top;\n",
       "    }\n",
       "\n",
       "    .dataframe thead th {\n",
       "        text-align: right;\n",
       "    }\n",
       "</style>\n",
       "<table border=\"1\" class=\"dataframe\">\n",
       "  <thead>\n",
       "    <tr style=\"text-align: right;\">\n",
       "      <th></th>\n",
       "      <th>id</th>\n",
       "      <th>name</th>\n",
       "      <th>first</th>\n",
       "      <th>last</th>\n",
       "      <th>compas_screening_date</th>\n",
       "      <th>sex</th>\n",
       "      <th>dob</th>\n",
       "      <th>age</th>\n",
       "      <th>age_cat</th>\n",
       "      <th>race</th>\n",
       "      <th>...</th>\n",
       "      <th>v_decile_score</th>\n",
       "      <th>v_score_text</th>\n",
       "      <th>v_screening_date</th>\n",
       "      <th>in_custody</th>\n",
       "      <th>out_custody</th>\n",
       "      <th>priors_count.1</th>\n",
       "      <th>start</th>\n",
       "      <th>end</th>\n",
       "      <th>event</th>\n",
       "      <th>two_year_recid</th>\n",
       "    </tr>\n",
       "  </thead>\n",
       "  <tbody>\n",
       "    <tr>\n",
       "      <th>0</th>\n",
       "      <td>1</td>\n",
       "      <td>miguel hernandez</td>\n",
       "      <td>miguel</td>\n",
       "      <td>hernandez</td>\n",
       "      <td>2013-08-14</td>\n",
       "      <td>Male</td>\n",
       "      <td>1947-04-18</td>\n",
       "      <td>69</td>\n",
       "      <td>Greater than 45</td>\n",
       "      <td>Other</td>\n",
       "      <td>...</td>\n",
       "      <td>1</td>\n",
       "      <td>Low</td>\n",
       "      <td>2013-08-14</td>\n",
       "      <td>2014-07-07</td>\n",
       "      <td>2014-07-14</td>\n",
       "      <td>0</td>\n",
       "      <td>0</td>\n",
       "      <td>327</td>\n",
       "      <td>0</td>\n",
       "      <td>0</td>\n",
       "    </tr>\n",
       "    <tr>\n",
       "      <th>1</th>\n",
       "      <td>3</td>\n",
       "      <td>kevon dixon</td>\n",
       "      <td>kevon</td>\n",
       "      <td>dixon</td>\n",
       "      <td>2013-01-27</td>\n",
       "      <td>Male</td>\n",
       "      <td>1982-01-22</td>\n",
       "      <td>34</td>\n",
       "      <td>25 - 45</td>\n",
       "      <td>African-American</td>\n",
       "      <td>...</td>\n",
       "      <td>1</td>\n",
       "      <td>Low</td>\n",
       "      <td>2013-01-27</td>\n",
       "      <td>2013-01-26</td>\n",
       "      <td>2013-02-05</td>\n",
       "      <td>0</td>\n",
       "      <td>9</td>\n",
       "      <td>159</td>\n",
       "      <td>1</td>\n",
       "      <td>1</td>\n",
       "    </tr>\n",
       "    <tr>\n",
       "      <th>2</th>\n",
       "      <td>4</td>\n",
       "      <td>ed philo</td>\n",
       "      <td>ed</td>\n",
       "      <td>philo</td>\n",
       "      <td>2013-04-14</td>\n",
       "      <td>Male</td>\n",
       "      <td>1991-05-14</td>\n",
       "      <td>24</td>\n",
       "      <td>Less than 25</td>\n",
       "      <td>African-American</td>\n",
       "      <td>...</td>\n",
       "      <td>3</td>\n",
       "      <td>Low</td>\n",
       "      <td>2013-04-14</td>\n",
       "      <td>2013-06-16</td>\n",
       "      <td>2013-06-16</td>\n",
       "      <td>4</td>\n",
       "      <td>0</td>\n",
       "      <td>63</td>\n",
       "      <td>0</td>\n",
       "      <td>1</td>\n",
       "    </tr>\n",
       "    <tr>\n",
       "      <th>3</th>\n",
       "      <td>5</td>\n",
       "      <td>marcu brown</td>\n",
       "      <td>marcu</td>\n",
       "      <td>brown</td>\n",
       "      <td>2013-01-13</td>\n",
       "      <td>Male</td>\n",
       "      <td>1993-01-21</td>\n",
       "      <td>23</td>\n",
       "      <td>Less than 25</td>\n",
       "      <td>African-American</td>\n",
       "      <td>...</td>\n",
       "      <td>6</td>\n",
       "      <td>Medium</td>\n",
       "      <td>2013-01-13</td>\n",
       "      <td>NaN</td>\n",
       "      <td>NaN</td>\n",
       "      <td>1</td>\n",
       "      <td>0</td>\n",
       "      <td>1174</td>\n",
       "      <td>0</td>\n",
       "      <td>0</td>\n",
       "    </tr>\n",
       "    <tr>\n",
       "      <th>4</th>\n",
       "      <td>6</td>\n",
       "      <td>bouthy pierrelouis</td>\n",
       "      <td>bouthy</td>\n",
       "      <td>pierrelouis</td>\n",
       "      <td>2013-03-26</td>\n",
       "      <td>Male</td>\n",
       "      <td>1973-01-22</td>\n",
       "      <td>43</td>\n",
       "      <td>25 - 45</td>\n",
       "      <td>Other</td>\n",
       "      <td>...</td>\n",
       "      <td>1</td>\n",
       "      <td>Low</td>\n",
       "      <td>2013-03-26</td>\n",
       "      <td>NaN</td>\n",
       "      <td>NaN</td>\n",
       "      <td>2</td>\n",
       "      <td>0</td>\n",
       "      <td>1102</td>\n",
       "      <td>0</td>\n",
       "      <td>0</td>\n",
       "    </tr>\n",
       "  </tbody>\n",
       "</table>\n",
       "<p>5 rows × 53 columns</p>\n",
       "</div>"
      ],
      "text/plain": [
       "   id                name   first         last compas_screening_date   sex  \\\n",
       "0   1    miguel hernandez  miguel    hernandez            2013-08-14  Male   \n",
       "1   3         kevon dixon   kevon        dixon            2013-01-27  Male   \n",
       "2   4            ed philo      ed        philo            2013-04-14  Male   \n",
       "3   5         marcu brown   marcu        brown            2013-01-13  Male   \n",
       "4   6  bouthy pierrelouis  bouthy  pierrelouis            2013-03-26  Male   \n",
       "\n",
       "          dob  age          age_cat              race  ...  v_decile_score  \\\n",
       "0  1947-04-18   69  Greater than 45             Other  ...               1   \n",
       "1  1982-01-22   34          25 - 45  African-American  ...               1   \n",
       "2  1991-05-14   24     Less than 25  African-American  ...               3   \n",
       "3  1993-01-21   23     Less than 25  African-American  ...               6   \n",
       "4  1973-01-22   43          25 - 45             Other  ...               1   \n",
       "\n",
       "   v_score_text  v_screening_date  in_custody  out_custody  priors_count.1  \\\n",
       "0           Low        2013-08-14  2014-07-07   2014-07-14               0   \n",
       "1           Low        2013-01-27  2013-01-26   2013-02-05               0   \n",
       "2           Low        2013-04-14  2013-06-16   2013-06-16               4   \n",
       "3        Medium        2013-01-13         NaN          NaN               1   \n",
       "4           Low        2013-03-26         NaN          NaN               2   \n",
       "\n",
       "  start   end event two_year_recid  \n",
       "0     0   327     0              0  \n",
       "1     9   159     1              1  \n",
       "2     0    63     0              1  \n",
       "3     0  1174     0              0  \n",
       "4     0  1102     0              0  \n",
       "\n",
       "[5 rows x 53 columns]"
      ]
     },
     "execution_count": 2,
     "metadata": {},
     "output_type": "execute_result"
    }
   ],
   "source": [
    "# Reload the CSV file after re-upload and display the first few rows\n",
    "compas_data_reloaded = pd.read_csv('compas-scores-two-years.csv')\n",
    "data=compas_data_reloaded\n",
    "compas_data_reloaded.head()\n"
   ]
  },
  {
   "cell_type": "code",
   "execution_count": 3,
   "id": "8e74d9ea",
   "metadata": {},
   "outputs": [
    {
     "data": {
      "text/plain": [
       "(               race      mean  median       std\n",
       " 0  African-American  5.368777     5.0  2.831122\n",
       " 1             Asian  2.937500     2.0  2.601953\n",
       " 2         Caucasian  3.735126     3.0  2.597926\n",
       " 3          Hispanic  3.463108     3.0  2.599100\n",
       " 4   Native American  6.166667     7.0  2.975389\n",
       " 5             Other  2.949602     2.0  2.350895,\n",
       "                race  two_year_recid\n",
       " 0  African-American        0.514340\n",
       " 1             Asian        0.281250\n",
       " 2         Caucasian        0.393643\n",
       " 3          Hispanic        0.364207\n",
       " 4   Native American        0.555556\n",
       " 5             Other        0.352785)"
      ]
     },
     "execution_count": 3,
     "metadata": {},
     "output_type": "execute_result"
    }
   ],
   "source": [
    "# Calculate summary statistics and recidivism rates for different racial groups\n",
    "summary_stats = data.groupby('race')['decile_score'].agg(['mean', 'median', 'std']).reset_index()\n",
    "recidivism_rates = data.groupby('race')['two_year_recid'].mean().reset_index()\n",
    "\n",
    "(summary_stats, recidivism_rates)\n"
   ]
  },
  {
   "cell_type": "markdown",
   "id": "f9a18be6-ebc5-4bb8-8bb4-8b29343e9dc5",
   "metadata": {},
   "source": [
    "# Controling other variables the same, relation between score and race"
   ]
  },
  {
   "cell_type": "code",
   "execution_count": 4,
   "id": "8d00607d-4b0c-4617-8b7e-3e9c93c24aff",
   "metadata": {},
   "outputs": [
    {
     "data": {
      "image/png": "[encoded data removed]",
      "text/plain": [
       "<Figure size 1200x600 with 1 Axes>"
      ]
     },
     "metadata": {},
     "output_type": "display_data"
    }
   ],
   "source": [
    "import seaborn as sns\n",
    "\n",
    "# Setting the aesthetic style of the plots\n",
    "sns.set(style=\"whitegrid\")\n",
    "\n",
    "# Creating a boxplot to show the relationship between race and decile_score\n",
    "plt.figure(figsize=(12, 6))\n",
    "boxplot = sns.boxplot(x='race', y='decile_score', data=data)\n",
    "plt.title('Relation between Decile Score and Race')\n",
    "plt.xlabel('Race')\n",
    "plt.ylabel('Decile Score')\n",
    "plt.xticks(rotation=45)  # Rotate labels for better readability\n",
    "\n",
    "plt.show()\n"
   ]
  },
  {
   "cell_type": "markdown",
   "id": "9364d98e-7130-4fe2-9df9-71405a9d645b",
   "metadata": {},
   "source": [
    "# Logistic regression"
   ]
  },
  {
   "cell_type": "code",
   "execution_count": 5,
   "id": "871e3a9f-426c-4545-8a65-91df1b1b03dc",
   "metadata": {},
   "outputs": [
    {
     "data": {
      "text/html": [
       "<div>\n",
       "<style scoped>\n",
       "    .dataframe tbody tr th:only-of-type {\n",
       "        vertical-align: middle;\n",
       "    }\n",
       "\n",
       "    .dataframe tbody tr th {\n",
       "        vertical-align: top;\n",
       "    }\n",
       "\n",
       "    .dataframe thead th {\n",
       "        text-align: right;\n",
       "    }\n",
       "</style>\n",
       "<table border=\"1\" class=\"dataframe\">\n",
       "  <thead>\n",
       "    <tr style=\"text-align: right;\">\n",
       "      <th></th>\n",
       "      <th>age</th>\n",
       "      <th>c_charge_degree</th>\n",
       "      <th>race</th>\n",
       "      <th>score_text</th>\n",
       "      <th>priors_count</th>\n",
       "      <th>two_year_recid</th>\n",
       "      <th>is_violent_recid</th>\n",
       "      <th>length_of_stay</th>\n",
       "    </tr>\n",
       "  </thead>\n",
       "  <tbody>\n",
       "    <tr>\n",
       "      <th>1</th>\n",
       "      <td>34</td>\n",
       "      <td>0</td>\n",
       "      <td>0</td>\n",
       "      <td>0</td>\n",
       "      <td>0</td>\n",
       "      <td>1</td>\n",
       "      <td>1</td>\n",
       "      <td>10.0</td>\n",
       "    </tr>\n",
       "    <tr>\n",
       "      <th>2</th>\n",
       "      <td>24</td>\n",
       "      <td>0</td>\n",
       "      <td>0</td>\n",
       "      <td>0</td>\n",
       "      <td>4</td>\n",
       "      <td>1</td>\n",
       "      <td>0</td>\n",
       "      <td>1.0</td>\n",
       "    </tr>\n",
       "    <tr>\n",
       "      <th>6</th>\n",
       "      <td>41</td>\n",
       "      <td>0</td>\n",
       "      <td>1</td>\n",
       "      <td>1</td>\n",
       "      <td>14</td>\n",
       "      <td>1</td>\n",
       "      <td>0</td>\n",
       "      <td>6.0</td>\n",
       "    </tr>\n",
       "    <tr>\n",
       "      <th>8</th>\n",
       "      <td>39</td>\n",
       "      <td>1</td>\n",
       "      <td>1</td>\n",
       "      <td>0</td>\n",
       "      <td>0</td>\n",
       "      <td>0</td>\n",
       "      <td>0</td>\n",
       "      <td>2.0</td>\n",
       "    </tr>\n",
       "    <tr>\n",
       "      <th>9</th>\n",
       "      <td>21</td>\n",
       "      <td>0</td>\n",
       "      <td>1</td>\n",
       "      <td>0</td>\n",
       "      <td>1</td>\n",
       "      <td>1</td>\n",
       "      <td>1</td>\n",
       "      <td>0.0</td>\n",
       "    </tr>\n",
       "  </tbody>\n",
       "</table>\n",
       "</div>"
      ],
      "text/plain": [
       "   age  c_charge_degree race  score_text  priors_count  two_year_recid  \\\n",
       "1   34                0    0           0             0               1   \n",
       "2   24                0    0           0             4               1   \n",
       "6   41                0    1           1            14               1   \n",
       "8   39                1    1           0             0               0   \n",
       "9   21                0    1           0             1               1   \n",
       "\n",
       "   is_violent_recid  length_of_stay  \n",
       "1                 1            10.0  \n",
       "2                 0             1.0  \n",
       "6                 0             6.0  \n",
       "8                 0             2.0  \n",
       "9                 1             0.0  "
      ]
     },
     "execution_count": 5,
     "metadata": {},
     "output_type": "execute_result"
    }
   ],
   "source": [
    "#Selecting Specific Columns:\n",
    "#This line creates a new DataFrame df by selecting specific columns from the original data DataFrame. \n",
    "#These columns include demographic, charge, and incarceration details.\n",
    "df = data[['age', 'c_charge_degree', 'race', 'score_text', 'priors_count',             \n",
    "           #'decile_score',\n",
    "           'two_year_recid', 'c_jail_in', 'c_jail_out', 'is_violent_recid']]\n",
    "\n",
    "\n",
    "#Filtering for Specific Races:This line restricts the dataset to only include rows where the race is either 'African-American' or 'Caucasian'.\n",
    "df = df.loc[df['race'].isin(('African-American', 'Caucasian'))]\n",
    "\n",
    "\n",
    "#Encoding Racial Categories:\n",
    "#Here, the race categories are converted into numeric values: 0 for 'African-American' and 1 for 'Caucasian'.\n",
    "df.loc[df[\"race\"] == \"African-American\", \"race\"] = 0\n",
    "df.loc[df[\"race\"] == \"Caucasian\", \"race\"] = 1\n",
    "\n",
    "# Filtering Charge Degrees and Score Text:\n",
    "#These lines exclude cases where the charge degree is 'O' (possibly other) and where the COMPAS score text is not available ('N/A').\n",
    "df = df.loc[df['c_charge_degree'] != 'O']\n",
    "df = df.loc[df['score_text'] != 'N/A']\n",
    "\n",
    "#Calculating Length of Stay:\n",
    "#This calculates the length of jail stay in days by subtracting the jail in-date from the jail out-date and converts the result into a number of days.\n",
    "df['length_of_stay'] = (df['c_jail_out'].apply(pd.to_datetime) - df['c_jail_in'].apply(pd.to_datetime)).dt.days\n",
    "\n",
    "#Cleaning Data:\n",
    "#The first line removes any rows where length_of_stay is missing. \n",
    "#The second line removes the original jail in and out dates now that length_of_stay has been calculated.\n",
    "df = df.dropna(subset = ['length_of_stay'])\n",
    "df = df.drop(columns=['c_jail_in', 'c_jail_out'])\n",
    "\n",
    "#Encoding Other Variables:\n",
    "#This encodes the charge degree and COMPAS score text as numerical categories for easier analysis in statistical or machine learning models.\n",
    "df = df.replace({'c_charge_degree': 'F'}, 0)\n",
    "df = df.replace({'c_charge_degree': 'M'}, 1)\n",
    "df = df.replace({'score_text': 'Low'}, 0)\n",
    "df = df.replace({'score_text': 'Medium'}, 1)\n",
    "df = df.replace({'score_text': 'High'}, 2)\n",
    "\n",
    "#Removing Duplicates:\n",
    "#This line removes duplicate rows, ensuring each entry in the DataFrame is unique.\n",
    "df = df.drop_duplicates()\n",
    "\n",
    "#Previewing the Data:\n",
    "df.head()"
   ]
  },
  {
   "cell_type": "code",
   "execution_count": 6,
   "id": "180f5aca-f0aa-492b-a73b-d97e9c72f99c",
   "metadata": {},
   "outputs": [],
   "source": [
    "#Importing the Train/Test Split Function:\n",
    "from sklearn.model_selection import train_test_split\n",
    "\n",
    "#Splitting the Dataset into Training and Remaining (Validation + Testing) Sets:\n",
    "df_train, df_rem = train_test_split(df,train_size=5/7.0)\n",
    "#Splitting the Remaining Data into Validation and Testing Sets:\n",
    "df_valid, df_test = train_test_split(df_rem, test_size = 0.5)"
   ]
  },
  {
   "cell_type": "markdown",
   "id": "8f9a2221-43d6-4411-bb29-a00c03af9365",
   "metadata": {},
   "source": [
    "The validation set is often used to fine-tune the model parameters and prevent overfitting before final evaluation on the test set.This approach of splitting into three parts helps in developing a robust model by having distinct datasets for training, tuning, and final evaluation."
   ]
  },
  {
   "cell_type": "code",
   "execution_count": 7,
   "id": "a9aaf6fb-a95c-486f-a384-e80f081ca7d7",
   "metadata": {},
   "outputs": [],
   "source": [
    "#further subdivides the training, testing, and validation datasets into separate groups based on the race attribute. \n",
    "#Here, race has been encoded as 0 for 'African-American' and 1 for 'Caucasian'\n",
    "df_train_a = df_train[df_train['race'] == 0]\n",
    "df_train_c = df_train[df_train['race'] == 1]\n",
    "\n",
    "df_test_a = df_test[df_test['race'] == 0]\n",
    "df_test_c = df_test[df_test['race'] == 1]\n",
    "\n",
    "df_valid_a = df_valid[df_valid['race'] == 0]\n",
    "df_valid_c = df_valid[df_valid['race'] == 1]\n"
   ]
  },
  {
   "cell_type": "markdown",
   "id": "e2b2280d-795c-427f-9b7f-1b55f33c133e",
   "metadata": {},
   "source": [
    "By creating these subsets, you can analyze the data or train models specifically to investigate or address disparities in outcomes or model performances between these two racial groups. This approach is often used in fairness analyses or when creating models that need to be sensitive to the potential biases that might affect different demographic groups differently."
   ]
  },
  {
   "cell_type": "code",
   "execution_count": 8,
   "id": "eaeb4fe5-f06e-4774-aa37-724d23134305",
   "metadata": {},
   "outputs": [],
   "source": [
    "X_train_a = df_train_a.drop(columns = ['two_year_recid', 'race'])\n",
    "X_train_c = df_train_c.drop(columns = ['two_year_recid', 'race'])\n",
    "Y_train_a = df_train_a['two_year_recid']\n",
    "Y_train_c = df_train_c['two_year_recid']\n",
    "S_train_a = df_train_a['race']\n",
    "S_train_c = df_train_c['race']\n",
    "\n",
    "X_test_a = df_test_a.drop(columns = ['two_year_recid', 'race'])\n",
    "X_test_c = df_test_c.drop(columns = ['two_year_recid', 'race'])\n",
    "Y_test_a = df_test_a['two_year_recid']\n",
    "Y_test_c = df_test_c['two_year_recid']\n",
    "S_test_a = df_test_a['race']\n",
    "S_test_c = df_test_c['race']\n",
    "\n",
    "X_valid_a = df_valid_a.drop(columns = ['two_year_recid', 'race'])\n",
    "X_valid_c = df_valid_c.drop(columns = ['two_year_recid', 'race'])\n",
    "Y_valid_a = df_valid_a['two_year_recid']\n",
    "Y_valid_c = df_valid_c['two_year_recid']\n",
    "S_valid_a = df_valid_a['race']\n",
    "S_valid_c = df_valid_c['race']"
   ]
  },
  {
   "cell_type": "markdown",
   "id": "e32a6b5c-7532-44aa-af19-0ddc7f2f9b09",
   "metadata": {},
   "source": [
    "### Training Set Preparation\r\n",
    "Features (X_train_a, X_train_c): These dataframes store the input features for each race by dropping the target variable two_year_recid and the sensitive attribute race. This ensures the models trained on these sets are not directly influenced by the race of the individuals\n",
    "\n",
    "\n",
    "Targets (Y_train_a, Y_train_c): These are the target variables (labels) for the models, indicating whether the individual recidivated within two years\n",
    "\n",
    "\n",
    "Sensitive Attributes (S_train_a, S_train_c): ): Although dropped from the features, you keep track of the sensitive attribute 'race' separately, possibly for analysis of model fairness or bias post-traini\n",
    "oups.\r\n",
    "\r\n",
    "\r\n",
    "\r\n",
    "\r\n",
    "\r\n",
    "\r\n"
   ]
  },
  {
   "cell_type": "markdown",
   "id": "97085678-281f-436f-ae8e-716823fcaf4e",
   "metadata": {},
   "source": [
    "### Testing Set Preparation\n",
    "Features (X_test_a, X_test_c): Similar to the training sets, these feature sets are prepared by excluding the target and race variables.\n",
    "\n",
    "Targets (Y_test_a, Y_test_c): These contain the actual outcomes used to evaluate model performance after training.\n",
    "\n",
    "Sensitive Attributes (S_test_a, S_test_c): Retaining the sensitive attribute separately for potentially assessing any bias in model predictions during testing.\n",
    "\n"
   ]
  },
  {
   "cell_type": "markdown",
   "id": "e7bb4352-6fbc-417a-8103-d4926ed1ed47",
   "metadata": {},
   "source": [
    "### Validation Set Preparation\n",
    "Features (X_valid_a, X_valid_c): Prepared identically to the training and testing sets, these features are used to fine-tune the model parameters.\n",
    "\n",
    "Targets (Y_valid_a, Y_valid_c): Used to validate the model's predictions and adjust for overfitting.\n",
    "\n",
    "Sensitive Attributes (S_valid_a, S_valid_c): Kept for evaluating how the model's predictions might vary with the race of the individuals.\n",
    "\n"
   ]
  },
  {
   "cell_type": "markdown",
   "id": "f9e5514d-a2ac-4bf0-b4ae-9da998d40a14",
   "metadata": {},
   "source": [
    "This structured approach allows you to conduct detailed analyses of model performance and fairness across different racial groups, a critical aspect when working with sensitive and potentially biased data. It enables the detection and mitigation of disparate impacts that the model might have on different subgroups."
   ]
  },
  {
   "cell_type": "code",
   "execution_count": 9,
   "id": "6b3a81be-0ed0-4009-933c-84579cca879a",
   "metadata": {},
   "outputs": [],
   "source": [
    "import torch as t\n",
    "\n",
    "train_X_c=t.tensor(np.array(X_train_c).astype('float32'))\n",
    "train_Y_c=t.from_numpy(np.array(Y_train_c).astype('float32')).reshape(X_train_c.shape[0],1)\n",
    "train_X_a=t.tensor(np.array(X_train_a).astype('float32'))\n",
    "train_Y_a=t.from_numpy(np.array(Y_train_a).astype('float32')).reshape(X_train_a.shape[0],1)\n",
    "\n",
    "valid_X_c=t.tensor(np.array(X_valid_c).astype('float32'))\n",
    "valid_Y_c=t.from_numpy(np.array(Y_valid_c).astype('float32')).reshape(X_valid_c.shape[0],1)\n",
    "valid_X_a=t.tensor(np.array(X_valid_a).astype('float32'))\n",
    "valid_Y_a=t.from_numpy(np.array(Y_valid_a).astype('float32')).reshape(X_valid_a.shape[0],1)\n",
    "\n",
    "test_X_c=t.tensor(np.array(X_test_c).astype('float32'))\n",
    "test_Y_c=t.from_numpy(np.array(Y_test_c).astype('float32')).reshape(X_test_c.shape[0],1)\n",
    "test_X_a=t.tensor(np.array(X_test_a).astype('float32'))\n",
    "test_Y_a=t.from_numpy(np.array(Y_test_a).astype('float32')).reshape(X_test_a.shape[0],1)"
   ]
  },
  {
   "cell_type": "markdown",
   "id": "892f7bda-e419-4c6d-be46-41c18510c34c",
   "metadata": {},
   "source": [
    "Using PyTorch, a powerful deep learning framework, to convert your training, validation, and test datasets into tensors. These tensors are then used to train and evaluate deep learning models. Here’s a breakdown of what each line of the code does:\r",
    "architecture."
   ]
  },
  {
   "cell_type": "markdown",
   "id": "bed53e36-af93-4f06-9b89-a7f12447aa0a",
   "metadata": {},
   "source": [
    "### Conversion to Tensors\n",
    "\n",
    "Features (X):\n",
    " train_X_c, train_X_a, valid_X_c, valid_X_a, test_X_c, test_X_a: These lines convert the feature dataframes for Caucasian and African-American groups into PyTorch tensors of type float32. This conversion is essential for neural network models in PyTorch, as they operate on tensors.\n",
    "\n",
    "Targets (Y):\n",
    " train_Y_c, train_Y_a, valid_Y_c, valid_Y_a, test_Y_c, test_Y_a: These lines convert the target arrays into PyTorch tensors and reshape them to have the shape [n_samples, 1], where n_samples is the number of samples in each respective set. This reshaping is typical for target variables in many machine learning tasks, particularly in supervised learning where the model predicts a single value per instance.\n",
    "\n"
   ]
  },
  {
   "cell_type": "markdown",
   "id": "3f7bf0cb-834d-48b7-a493-b05716078ff1",
   "metadata": {},
   "source": [
    "### Utilization in PyTorch\n",
    "\n",
    "These tensors (train_X_c, train_Y_c, etc.) are now ready to be used in a machine learning model using PyTorch. For instance, they can be fed into a neural network for binary classification (predicting two_year_recid).\n",
    "\n",
    "The use of float32 data type is aligned with the standard data type used in neural networks for efficiency and performance reasons.\n",
    "\n"
   ]
  },
  {
   "cell_type": "markdown",
   "id": "65e7cc7f-f968-407a-a92d-05e592f3e839",
   "metadata": {},
   "source": [
    "### Next Steps\n",
    "\n",
    "Model Definition: Define your neural network architecture using PyTorch's module system (nn.Module).\n",
    "\n",
    "Training Loop: Implement the training loop where you will feed these tensors into your model, calculate the loss (e.g., using binary cross-entropy), and update the model's weights using an optimizer (e.g., Adam or SGD).\n",
    "\n",
    "Evaluation: Use the validation and test sets to evaluate your model's performance and tune hyperparameters or make adjustments to the model architecture."
   ]
  },
  {
   "cell_type": "code",
   "execution_count": 10,
   "id": "07322067-1537-4285-9c85-a6c50ec63d78",
   "metadata": {},
   "outputs": [],
   "source": [
    "import torch\n",
    "import torch.nn as nn\n",
    "import torch.optim as optim\n",
    "\n",
    "class LogisticRegressionModel(nn.Module):\n",
    "    def __init__(self, input_size):\n",
    "        super(LogisticRegressionModel, self).__init__()\n",
    "        self.linear = nn.Linear(input_size, 1)  # Output is 1 since it's binary classification\n",
    "\n",
    "    def forward(self, x):\n",
    "        y_pred = torch.sigmoid(self.linear(x))  # Sigmoid activation to output probabilities\n",
    "        return y_pred\n"
   ]
  },
  {
   "cell_type": "code",
   "execution_count": 11,
   "id": "a6296ad5-36ae-46c4-be47-0503a0829986",
   "metadata": {},
   "outputs": [],
   "source": [
    "# Assuming input features have a certain size, replace with actual number of features\n",
    "input_size = train_X_a.shape[1]  \n",
    "model_a = LogisticRegressionModel(input_size)\n",
    "\n",
    "# Loss function\n",
    "criterion = nn.BCELoss()  # Binary Cross Entropy Loss for binary classification\n",
    "\n",
    "# Optimizer\n",
    "optimizer = optim.SGD(model_a.parameters(), lr=0.01)  # Stochastic Gradient Descent\n"
   ]
  },
  {
   "cell_type": "code",
   "execution_count": 12,
   "id": "cc806d59-b238-43a8-8b10-281c34820ea9",
   "metadata": {},
   "outputs": [
    {
     "name": "stdout",
     "output_type": "stream",
     "text": [
      "Epoch [10/100], Loss: 1.8418\n",
      "Epoch [20/100], Loss: 1.0667\n",
      "Epoch [30/100], Loss: 1.0379\n",
      "Epoch [40/100], Loss: 1.5384\n",
      "Epoch [50/100], Loss: 1.0173\n",
      "Epoch [60/100], Loss: 1.4431\n",
      "Epoch [70/100], Loss: 1.0052\n",
      "Epoch [80/100], Loss: 1.3540\n",
      "Epoch [90/100], Loss: 1.0018\n",
      "Epoch [100/100], Loss: 1.3457\n"
     ]
    }
   ],
   "source": [
    "def train_model(model, criterion, optimizer, train_X, train_Y, epochs=100):\n",
    "    model.train()\n",
    "    for epoch in range(epochs):\n",
    "        optimizer.zero_grad()  # Clear the gradients\n",
    "        outputs = model(train_X)  # Forward pass: compute the output class given a image\n",
    "        loss = criterion(outputs, train_Y)  # Calculate loss\n",
    "        loss.backward()  # Backward pass: compute gradient of the loss with respect to model parameters\n",
    "        optimizer.step()  # Update weights based on gradients\n",
    "\n",
    "        if (epoch+1) % 10 == 0:\n",
    "            print(f'Epoch [{epoch+1}/{epochs}], Loss: {loss.item():.4f}')\n",
    "\n",
    "# Train the model\n",
    "train_model(model_a, criterion, optimizer, train_X_a, train_Y_a.view(-1, 1))\n"
   ]
  },
  {
   "cell_type": "code",
   "execution_count": 13,
   "id": "d190ef2b-069a-48dd-b754-3c6dc1a4bb6d",
   "metadata": {},
   "outputs": [
    {
     "name": "stdout",
     "output_type": "stream",
     "text": [
      "Accuracy of the model on the African-American validation group: 67.21%\n"
     ]
    }
   ],
   "source": [
    "def evaluate_model(model, X, Y):\n",
    "    model.eval()  # Set the model to evaluation mode\n",
    "    with torch.no_grad():\n",
    "        predicted = model(X)\n",
    "        predicted_classes = (predicted >= 0.5).float()  # Convert probabilities to 0 or 1\n",
    "        correct_count = (predicted_classes == Y).sum().float()\n",
    "        accuracy = correct_count / Y.shape[0]\n",
    "        return accuracy\n",
    "\n",
    "# Calculate accuracy on validation set\n",
    "accuracy_a = evaluate_model(model_a, valid_X_a, valid_Y_a)\n",
    "print(f'Accuracy of the model on the African-American validation group: {accuracy_a.item()*100:.2f}%')\n"
   ]
  },
  {
   "cell_type": "code",
   "execution_count": 14,
   "id": "51744981-c476-4a44-b641-5fd2f53f246d",
   "metadata": {},
   "outputs": [],
   "source": [
    "input_size = train_X_c.shape[1]\n",
    "model_c = LogisticRegressionModel(input_size)\n",
    "\n",
    "# Loss function\n",
    "criterion_c = nn.BCELoss()\n",
    "\n",
    "# Optimizer\n",
    "optimizer_c = optim.SGD(model_c.parameters(), lr=0.01)\n"
   ]
  },
  {
   "cell_type": "code",
   "execution_count": 15,
   "id": "28386cc6-07bf-4f78-83a8-5839ddb560d8",
   "metadata": {},
   "outputs": [
    {
     "name": "stdout",
     "output_type": "stream",
     "text": [
      "Epoch [10/100], Loss: 1.6205\n",
      "Epoch [20/100], Loss: 2.2805\n",
      "Epoch [30/100], Loss: 1.2028\n",
      "Epoch [40/100], Loss: 2.1240\n",
      "Epoch [50/100], Loss: 1.1914\n",
      "Epoch [60/100], Loss: 2.0982\n",
      "Epoch [70/100], Loss: 1.1809\n",
      "Epoch [80/100], Loss: 1.9164\n",
      "Epoch [90/100], Loss: 1.1980\n",
      "Epoch [100/100], Loss: 1.8980\n"
     ]
    }
   ],
   "source": [
    "train_model(model_c, criterion_c, optimizer_c, train_X_c, train_Y_c.view(-1, 1))\n"
   ]
  },
  {
   "cell_type": "code",
   "execution_count": 16,
   "id": "1823c730-05da-4580-b073-f082e38a9258",
   "metadata": {},
   "outputs": [
    {
     "name": "stdout",
     "output_type": "stream",
     "text": [
      "Accuracy of the model on the Caucasian validation group: 57.99%\n"
     ]
    }
   ],
   "source": [
    "accuracy_c = evaluate_model(model_c, valid_X_c, valid_Y_c)\n",
    "print(f'Accuracy of the model on the Caucasian validation group: {accuracy_c.item()*100:.2f}%')\n"
   ]
  },
  {
   "cell_type": "code",
   "execution_count": 17,
   "id": "72f3dd3f-1133-411c-8eb9-923f358c3654",
   "metadata": {},
   "outputs": [
    {
     "name": "stdout",
     "output_type": "stream",
     "text": [
      "Validation accuracy:  tensor(0.6260)\n",
      "Validation calibration score:  tensor(0.0922)\n"
     ]
    }
   ],
   "source": [
    "# Accuracy in general and Calibration\n",
    "accuracy = (accuracy_a+accuracy_c)/2\n",
    "calibration = abs(accuracy_a - accuracy_c)\n",
    "\n",
    "print(\"Validation accuracy: \", accuracy)\n",
    "print(\"Validation calibration score: \", calibration)"
   ]
  },
  {
   "cell_type": "code",
   "execution_count": 18,
   "id": "a6505945-0add-410f-ba3c-ae52fedf0871",
   "metadata": {},
   "outputs": [
    {
     "name": "stdout",
     "output_type": "stream",
     "text": [
      "Test Accuracy for African-American group: 63.45%\n",
      "Test Accuracy for Caucasian group: 57.34%\n",
      "Average Test Accuracy: 60.40%\n",
      "Test Calibration Score: 6.11%\n"
     ]
    }
   ],
   "source": [
    "# Assuming the models are PyTorch models named model_a and model_c\n",
    "\n",
    "# Evaluate the model on the test set for African-American group\n",
    "accuracy_a_test = evaluate_model(model_a, test_X_a, test_Y_a)\n",
    "print(f'Test Accuracy for African-American group: {accuracy_a_test.item()*100:.2f}%')\n",
    "\n",
    "# Evaluate the model on the test set for Caucasian group\n",
    "accuracy_c_test = evaluate_model(model_c, test_X_c, test_Y_c)\n",
    "print(f'Test Accuracy for Caucasian group: {accuracy_c_test.item()*100:.2f}%')\n",
    "\n",
    "# Calculate average test accuracy and test calibration score\n",
    "average_test_accuracy = (accuracy_a_test + accuracy_c_test) / 2\n",
    "test_calibration_score = abs(accuracy_a_test - accuracy_c_test)\n",
    "print(f\"Average Test Accuracy: {average_test_accuracy.item()*100:.2f}%\")\n",
    "print(f\"Test Calibration Score: {test_calibration_score.item()*100:.2f}%\")\n"
   ]
  },
  {
   "cell_type": "code",
   "execution_count": 28,
   "id": "3ce64668-916c-42c3-9559-048c08e6836a",
   "metadata": {},
   "outputs": [],
   "source": [
    "def accuracy(Model_c, Model_a, df_c_X_train, df_c_y_train, df_a_X_train, df_a_y_train):\n",
    "    yc_pred = (Model_c(df_c_X_train) >= 0.5)\n",
    "    ya_pred = (Model_a(df_a_X_train) >= 0.5)\n",
    "    accu_c = t.sum(yc_pred.flatten() == df_c_y_train.flatten()) / df_c_X_train.shape[0]\n",
    "    accu_a = t.sum(ya_pred.flatten() == df_a_y_train.flatten()) / df_a_X_train.shape[0]\n",
    "\n",
    "    accuracy = (accu_c + accu_a) / 2\n",
    "    calibration = abs(accu_c - accu_a)\n",
    "\n",
    "    print(\"Accuracy : {:.3f}%\".format(accuracy.item() * 100))\n",
    "    print(\"Calibration : {:.3f}%\".format(calibration.item() * 100))\n",
    "\n",
    "    return round(accuracy.item(), 4), round(calibration.item(), 4)\n"
   ]
  },
  {
   "cell_type": "markdown",
   "id": "5022bb28-faae-45ee-a286-eb2039d615cd",
   "metadata": {},
   "source": [
    "Function 'accuracy' is designed to calculate the accuracy and calibration scores of two PyTorch models, one trained on data from the Caucasian group (Model_c) and the other on data from the African-American group (Model_a). The function takes these models and their respective training datasets as inputs. Here's an analysis and a slight correction to improve the function:\n",
    "\n",
    "### Function Breakdown\n",
    "### Prediction:\n",
    "\n",
    "yc_pred and ya_pred are tensors of booleans where predictions are determined by whether the model outputs are greater than or equal to 0.5. This is typical for binary classification tasks using logistic regression where the sigmoid function's output is interpreted as a probability.\n",
    "### Accuracy Calculation:\n",
    "\n",
    "accu_c and accu_a: These lines calculate the accuracy for each group by comparing the predicted labels to the true labels (df_c_y_train and df_a_y_train). The comparison generates a Boolean tensor, and taking the sum of this tensor gives the number of correct predictions. Dividing by the total number of samples (df_c_X_train.shape[0] or df_a_X_train.shape[0]) yields the accuracy as a proportion.\n",
    "### Overall Accuracy and Calibration:\n",
    "\n",
    "The average accuracy (accuracy) is calculated by averaging accu_c and accu_a.\n",
    "Calibration (calibration) is computed as the absolute difference between accu_c and accu_a, which measures how similarly the two models perform across the different racial groups. This is an important metric in fairness analysis.\n",
    "### Returning Results:\n",
    "\n",
    "The function returns the rounded values of accuracy and calibration to four decimal places.\n",
    "Suggested Correction and Improvement\n",
    "The print statements at the end of your function will never execute because they are placed after a return statement. If you want these printouts to occur every time the function is called, you should move them before the return statement."
   ]
  },
  {
   "cell_type": "markdown",
   "id": "76d4a462-7b64-4919-aa47-f09f244899f8",
   "metadata": {},
   "source": [
    "# Logistic Regression with Prejudice Regularizer"
   ]
  },
  {
   "cell_type": "code",
   "execution_count": 36,
   "id": "d977bcda-25db-41b5-8f8a-25504a276828",
   "metadata": {},
   "outputs": [],
   "source": [
    "import torch as t\n",
    "import torch.nn as nn\n",
    "\n",
    "class PRLoss(nn.Module):  # Inherit from nn.Module\n",
    "    def __init__(self, eta=1.0):\n",
    "        super(PRLoss, self).__init__()\n",
    "        self.eta = eta\n",
    "\n",
    "    def forward(self, output_c, output_a):\n",
    "        epsilon = 1e-8  # Small number to prevent division by zero or log(0)\n",
    "        \n",
    "        N_cau = t.tensor(output_c.shape[0], dtype=t.float32)\n",
    "        N_aa = t.tensor(output_a.shape[0], dtype=t.float32)\n",
    "        Dxisi = t.stack((N_aa, N_cau))  # Stack along a new dimension\n",
    "\n",
    "        y_pred_cau = t.sum(output_c)\n",
    "        y_pred_aa = t.sum(output_a)\n",
    "        P_ys = t.stack((y_pred_aa, y_pred_cau)) / Dxisi\n",
    "\n",
    "        total = t.cat((output_c, output_a), 0)\n",
    "        P_y = t.sum(total) / (output_c.shape[0] + output_a.shape[0])\n",
    "\n",
    "        P_s1y1 = t.log(P_ys[1] / (P_y + epsilon) + epsilon)\n",
    "        P_s1y0 = t.log((1 - P_ys[1]) / (1 - P_y + epsilon) + epsilon)\n",
    "        P_s0y1 = t.log(P_ys[0] / (P_y + epsilon) + epsilon)\n",
    "        P_s0y0 = t.log((1 - P_ys[0]) / (1 - P_y + epsilon) + epsilon)\n",
    "\n",
    "        PI_s1y1 = output_c * P_s1y1\n",
    "        PI_s1y0 = (1 - output_c) * P_s1y0\n",
    "        PI_s0y1 = output_a * P_s0y1\n",
    "        PI_s0y0 = (1 - output_a) * P_s0y0\n",
    "\n",
    "        PI = t.sum(PI_s1y1) + t.sum(PI_s1y0) + t.sum(PI_s0y1) + t.sum(PI_s0y0)\n",
    "        return self.eta * PI\n"
   ]
  },
  {
   "cell_type": "markdown",
   "id": "2b98a0cc-4ca9-4ee2-af9c-2e2787ede97e",
   "metadata": {},
   "source": [
    "### Overview of the Class:\n",
    "Initialization (__init__):\n",
    "\n",
    "eta: A hyperparameter that scales the penalty.\n",
    "Forward Method (forward):\n",
    "\n",
    "Takes output_c and output_a as inputs, which represent model outputs for the Caucasian and African-American groups, respectively.\n",
    "Implements equations to calculate the mutual information between the outputs and the sensitive attribute (race), aiming to penalize predictions that result in disparate impact."
   ]
  },
  {
   "cell_type": "code",
   "execution_count": 37,
   "id": "5dd5828a-a64e-4e80-a123-c9989b827798",
   "metadata": {},
   "outputs": [],
   "source": [
    "import torch.nn as nn\n",
    "class LogisticRegression(nn.Module):\n",
    "    def __init__(self,data):\n",
    "        super(LogisticRegression, self).__init__()\n",
    "        self.w = nn.Linear(data.shape[1], out_features=1, bias=True)\n",
    "        self.sigmod = nn.Sigmoid()\n",
    "    def forward(self, x):\n",
    "        w = self.w(x)\n",
    "        output = self.sigmod(w)\n",
    "        return output"
   ]
  },
  {
   "cell_type": "markdown",
   "id": "abeedc2a-3b5f-4af7-8494-3181cc909617",
   "metadata": {},
   "source": [
    "This class defines a simple logistic regression model using PyTorch’s neural network module (nn.Module)\n",
    "\n",
    "### Class Overview\n",
    "__init__ Method:\n",
    "\n",
    "Initializes the model by setting up a linear layer with weights (self.w) and a bias. The input feature dimension is determined by data.shape[1], which should be the number of features in your dataset.\n",
    "A sigmoid activation function (self.sigmod) is defined to map the linear layer's output to a probability (0 to 1), suitable for binary classification.\n",
    "\n",
    "\n",
    "forward Method:\n",
    "\n",
    "Defines the forward pass of the model. It takes an input tensor x, applies the linear transformation, and then applies the sigmoid function to produce the output."
   ]
  },
  {
   "cell_type": "code",
   "execution_count": 42,
   "id": "880a935c-04ad-43ac-adb4-366a463a2aca",
   "metadata": {},
   "outputs": [],
   "source": [
    "class PRLR():\n",
    "    def __init__(self, eta = 1, iters = 100, step = 0.01):\n",
    "        super(PRLR, self).__init__()\n",
    "        self.eta = eta\n",
    "        self.step = step\n",
    "        self.iters = iters\n",
    "\n",
    "    def fit(self, X_train_c, Y_train_c, X_train_a, Y_train_a, \n",
    "            X_valid_c, Y_valid_c, X_valid_a, Y_valid_a,\n",
    "            X_test_c, Y_test_c, X_test_a, Y_test_a):\n",
    "        modela = LogisticRegression(X_train_a)      # African-American\n",
    "        modelc = LogisticRegression(X_train_c)      # Caucasian\n",
    "        loss = nn.BCELoss(reduction='sum')\n",
    "        iters = self.iters\n",
    "        PI_term = PRLoss(eta = self.eta)\n",
    "        #L2_optimizer = t.optim.Adam(list(np.abs(model0.parameters()) + np.abs(model1.parameters())), self.step, weight_decay = 1e-5)\n",
    "        L2_optimizer = t.optim.Adam(list(modela.parameters())+list(modelc.parameters()), self.step, weight_decay = 1e-5)\n",
    "        \n",
    "\n",
    "        train_losses = []\n",
    "        val_losses = []\n",
    "        for iter in range(iters):\n",
    "            modela.train()\n",
    "            modelc.train()\n",
    "            L2_optimizer.zero_grad()\n",
    "            \n",
    "            ## sigmoid probability and loss\n",
    "            output_a = modela(X_train_a)    # A-A\n",
    "            output_c = modelc(X_train_c)\n",
    "            # Loss_func is the sum of LogLoss and PI Loss\n",
    "            loss_function_train = loss(output_c, Y_train_c) + loss(output_a, Y_train_a) + PI_term.forward(output_c, output_a)\n",
    "            loss_function_train.backward()\n",
    "            L2_optimizer.step()\n",
    "            train_losses.append(loss_function_train)\n",
    "\n",
    "\n",
    "            output_a_valid = modela(X_valid_a)\n",
    "            output_c_valid = modelc(X_valid_c)\n",
    "            loss_function_val = loss(output_c_valid, Y_valid_c) + loss(output_a_valid, Y_valid_a) + PI_term.forward(output_c_valid, output_a_valid)\n",
    "\n",
    "            val_losses.append(loss_function_val)\n",
    "\n",
    "\n",
    "        modela.eval()\n",
    "        modelc.eval()\n",
    "        # accuracy\n",
    "        accu = accuracy(modelc,modela,X_train_c,Y_train_c,X_train_a,Y_train_a)\n",
    "        accu_val = accuracy(modelc,modela,X_valid_c,Y_valid_c,X_valid_a,Y_valid_a)\n",
    "        accu_test = accuracy(modelc,modela,X_test_c,Y_test_c,X_test_a,Y_test_a)\n",
    "        \n",
    "        # PI index\n",
    "        # pi_train = PI_term.forward(modela(X_train_a), modelc(X_train_c))\n",
    "        # pi_valid = PI_term.forward(modela(X_valid_a), modelc(X_valid_c))\n",
    "        # pi_test = PI_term.forward(modela(X_test_a), modelc(X_test_c))\n",
    "\n",
    "        return accu, accu_val, accu_test"
   ]
  },
  {
   "cell_type": "markdown",
   "id": "792f3b99-5438-472d-98a2-66a7cef3035e",
   "metadata": {},
   "source": [
    " class PRLR is designed to implement a specific logistic regression training process, considering both traditional loss and a custom probabilistic loss (PRLoss) that seems to be aimed at enforcing some kind of fairness or parity constraint between two different groups (African-American and Caucasian). \n",
    "\n",
    "### Class Overview\r\n",
    "Initialization (__init__):\r\n",
    "\r\n",
    "Initializes hyperparameters such as the learning rate (step), number of iterations (iters), and a scaling factor (et\n",
    "\n",
    "\n",
    "a).\r\n",
    "fit Method:\r\n",
    "\r\n",
    "This method sets up and trains two logistic regression models—one for each group. It integrates a standard binary cross-entropy loss (BCELoss) and the custom PRLoss to enforce fairness constraints during training.ining."
   ]
  },
  {
   "cell_type": "code",
   "execution_count": 43,
   "id": "834ddb86-a4d0-4be3-a7c6-75e17ccbe910",
   "metadata": {},
   "outputs": [
    {
     "name": "stdout",
     "output_type": "stream",
     "text": [
      "Accuracy : 69.737%\n",
      "Calibration : 0.946%\n",
      "Accuracy : 72.892%\n",
      "Calibration : 3.521%\n",
      "Accuracy : 68.938%\n",
      "Calibration : 4.082%\n",
      "Accuracy : 69.370%\n",
      "Calibration : 1.771%\n",
      "Accuracy : 72.891%\n",
      "Calibration : 0.747%\n",
      "Accuracy : 69.977%\n",
      "Calibration : 3.402%\n",
      "Accuracy : 69.671%\n",
      "Calibration : 1.807%\n",
      "Accuracy : 71.966%\n",
      "Calibration : 1.207%\n",
      "Accuracy : 69.163%\n",
      "Calibration : 2.234%\n",
      "Accuracy : 69.646%\n",
      "Calibration : 2.040%\n",
      "Accuracy : 71.330%\n",
      "Calibration : 0.396%\n",
      "Accuracy : 68.993%\n",
      "Calibration : 3.273%\n",
      "Accuracy : 69.542%\n",
      "Calibration : 1.974%\n",
      "Accuracy : 71.041%\n",
      "Calibration : 0.280%\n",
      "Accuracy : 69.168%\n",
      "Calibration : 3.623%\n",
      "Accuracy : 69.449%\n",
      "Calibration : 2.070%\n",
      "Accuracy : 70.404%\n",
      "Calibration : 0.531%\n",
      "Accuracy : 68.708%\n",
      "Calibration : 4.542%\n",
      "Accuracy : 69.494%\n",
      "Calibration : 2.161%\n",
      "Accuracy : 70.693%\n",
      "Calibration : 0.415%\n",
      "Accuracy : 68.768%\n",
      "Calibration : 5.122%\n",
      "Accuracy : 69.348%\n",
      "Calibration : 3.002%\n",
      "Accuracy : 70.463%\n",
      "Calibration : 1.435%\n",
      "Accuracy : 68.638%\n",
      "Calibration : 1.185%\n",
      "Accuracy : 69.325%\n",
      "Calibration : 2.956%\n",
      "Accuracy : 70.462%\n",
      "Calibration : 0.047%\n",
      "Accuracy : 68.588%\n",
      "Calibration : 3.383%\n",
      "Accuracy : 69.302%\n",
      "Calibration : 2.910%\n",
      "Accuracy : 70.636%\n",
      "Calibration : 0.395%\n",
      "Accuracy : 68.588%\n",
      "Calibration : 3.383%\n"
     ]
    }
   ],
   "source": [
    "eta_value = [0.0,1.0,2.0,3.0,4.0,5.0,10.0,15.0,20.0,25.0]\n",
    "accur = list()\n",
    "accur_val = list()\n",
    "accur_test = list()\n",
    "# PI_train = list()\n",
    "# PI_val = list()\n",
    "# PI_test = list()\n",
    "for i in range(0,len(eta_value)):\n",
    "    #print(\"Theta Value: %d\" % eta_value[e])\n",
    "    PR = PRLR(eta = eta_value[i], iters = 3000, step = 0.01)\n",
    "    accur_eta,accur_val_eta,accur_test_eta = PR.fit(train_X_c,train_Y_c,train_X_a,train_Y_a,\n",
    "                                                    valid_X_c,valid_Y_c,valid_X_a,valid_Y_a,\n",
    "                                                    test_X_c,test_Y_c,test_X_a,test_Y_a)\n",
    "    accur.append(accur_eta)\n",
    "    accur_val.append(accur_val_eta)\n",
    "    accur_test.append(accur_test_eta)"
   ]
  },
  {
   "cell_type": "markdown",
   "id": "6ca35750-34de-4770-b618-2c28ebca1cfd",
   "metadata": {},
   "source": [
    "### Overview\n",
    "eta_value: A list of different values for the eta parameter.\n",
    "Training Loop:\n",
    "For each eta value, you initialize a PRLR model and train it using the fit method.\n",
    "The accuracies for training, validation, and test sets are stored in respective lists for later analysis."
   ]
  },
  {
   "cell_type": "code",
   "execution_count": 33,
   "id": "387ac0bb-d634-4e3b-b8f9-d868c7d0c9fe",
   "metadata": {},
   "outputs": [
    {
     "data": {
      "text/plain": [
       "[(0.6978, 0.0104),\n",
       " (0.6937, 0.0177),\n",
       " (0.6964, 0.0188),\n",
       " (0.6965, 0.0204),\n",
       " (0.6957, 0.0202),\n",
       " (0.6962, 0.0199),\n",
       " (0.6957, 0.0202),\n",
       " (0.6948, 0.0228),\n",
       " (0.6937, 0.0277),\n",
       " (0.695, 0.026)]"
      ]
     },
     "execution_count": 33,
     "metadata": {},
     "output_type": "execute_result"
    }
   ],
   "source": [
    "#train\n",
    "accur"
   ]
  },
  {
   "cell_type": "code",
   "execution_count": 34,
   "id": "fb64f8c7-79d6-4c60-9d82-34173677fca4",
   "metadata": {},
   "outputs": [
    {
     "data": {
      "text/plain": [
       "[(0.7289, 0.0352),\n",
       " (0.7289, 0.0075),\n",
       " (0.7197, 0.0121),\n",
       " (0.7133, 0.004),\n",
       " (0.7087, 0.0007),\n",
       " (0.704, 0.0053),\n",
       " (0.7017, 0.0007),\n",
       " (0.7017, 0.0007),\n",
       " (0.7035, 0.0028),\n",
       " (0.7029, 0.003)]"
      ]
     },
     "execution_count": 34,
     "metadata": {},
     "output_type": "execute_result"
    }
   ],
   "source": [
    "#validation\n",
    "accur_val"
   ]
  },
  {
   "cell_type": "code",
   "execution_count": 35,
   "id": "3bc9a271-feda-4543-b1ee-cb277a2ddef6",
   "metadata": {},
   "outputs": [
    {
     "data": {
      "text/plain": [
       "[(0.6894, 0.0408),\n",
       " (0.6998, 0.034),\n",
       " (0.6934, 0.0258),\n",
       " (0.6899, 0.0327),\n",
       " (0.6894, 0.0408),\n",
       " (0.6871, 0.0454),\n",
       " (0.6882, 0.0431),\n",
       " (0.6865, 0.0396),\n",
       " (0.683, 0.0326),\n",
       " (0.6847, 0.0361)]"
      ]
     },
     "execution_count": 35,
     "metadata": {},
     "output_type": "execute_result"
    }
   ],
   "source": [
    "#test\n",
    "accur_test"
   ]
  },
  {
   "cell_type": "markdown",
   "id": "60e78c5f-5f67-4e52-a603-c37904576a95",
   "metadata": {},
   "source": [
    "# Final Model"
   ]
  },
  {
   "cell_type": "code",
   "execution_count": 27,
   "id": "308a3e48-880b-4a2d-a3f9-7bbe88f824d1",
   "metadata": {},
   "outputs": [
    {
     "data": {
      "text/plain": [
       "((0.6967, 0.0181), (0.7197, 0.0121), (0.6916, 0.0223))"
      ]
     },
     "execution_count": 27,
     "metadata": {},
     "output_type": "execute_result"
    }
   ],
   "source": [
    "PR_eta2 = PRLR(eta = 2.0, iters = 3000, step = 0.01)\n",
    "PR_eta2.fit(train_X_c,train_Y_c,train_X_a,train_Y_a,\n",
    "                                                    valid_X_c,valid_Y_c,valid_X_a,valid_Y_a,\n",
    "                                                    test_X_c,test_Y_c,test_X_a,test_Y_a)"
   ]
  },
  {
   "cell_type": "markdown",
   "id": "801fc35d-2bb1-4ed9-8c2c-622d2230fd35",
   "metadata": {},
   "source": [
    "### Execution\n",
    "\n",
    "Here’s what happens when you execute this code:\n",
    "\n",
    "Model Initialization:\n",
    "\n",
    "A new instance of PRLR is created with eta = 2.0, iters = 3000, and step = 0.01. These parameters will control the training process, where eta influences the weight of the fairness term in your loss function.\n",
    "Model Training:\n",
    "\n",
    "The fit method will be executed, which entails:\n",
    "Training two logistic regression models for the two groups (Caucasian and African-American) over 3000 iterations.\n",
    "Using a learning rate (step) of 0.01 to update the model parameters.\n",
    "Applying both the binary cross-entropy loss and your custom PRLoss designed to adjust for fairness based on the eta value.\n",
    "Return Values:\n",
    "\n",
    "The method will return the training, validation, and testing accuracies. Make sure to capture these returned values if you want to analyze or report them."
   ]
  },
  {
   "cell_type": "markdown",
   "id": "cbaeacc9-7780-4830-bef7-7272685dc978",
   "metadata": {},
   "source": [
    "# References"
   ]
  },
  {
   "cell_type": "markdown",
   "id": "26fc6fcb-439a-448e-b546-3061a0c2882f",
   "metadata": {},
   "source": [
    "https://colab.research.google.com/github/sony/nnabla-examples/blob/master/interactive-demos/prejudice_remover_regularizer.ipynb#scrollTo=r45NcxtY6OzB"
   ]
  }
 ],
 "metadata": {
  "hide_input": false,
  "kernelspec": {
   "display_name": "Python 3 (ipykernel)",
   "language": "python",
   "name": "python3"
  },
  "language_info": {
   "codemirror_mode": {
    "name": "ipython",
    "version": 3
   },
   "file_extension": ".py",
   "mimetype": "text/x-python",
   "name": "python",
   "nbconvert_exporter": "python",
   "pygments_lexer": "ipython3",
   "version": "3.11.7"
  }
 },
 "nbformat": 4,
 "nbformat_minor": 5
}
